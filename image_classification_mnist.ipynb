{
  "nbformat": 4,
  "nbformat_minor": 0,
  "metadata": {
    "colab": {
      "provenance": [],
      "gpuType": "T4"
    },
    "kernelspec": {
      "name": "python3",
      "display_name": "Python 3"
    },
    "language_info": {
      "name": "python"
    },
    "accelerator": "GPU"
  },
  "cells": [
    {
      "cell_type": "code",
      "source": [
        "# train.py\n",
        "\n",
        "import tensorflow as tf\n",
        "from data.fashion_mnist_data import load_data\n",
        "from tensorflow.keras.callbacks import EarlyStopping, ReduceLROnPlateau\n",
        "\n",
        "# Load Fashion MNIST data\n",
        "(x_train, y_train), (x_test, y_test) = load_data()\n",
        "\n",
        "# Build the CNN model (or another model of your choice)\n",
        "def build_cnn_model():\n",
        "    model = models.Sequential([\n",
        "\n",
        "        layers.Conv2D(32, (2, 2), activation='relu',padding=\"same\", input_shape=(28, 28, 1)),\n",
        "        layers.BatchNormalization(),\n",
        "        layers.Conv2D(32, (2, 2),activation='relu',padding=\"same\"),\n",
        "        layers.BatchNormalization(),\n",
        "        layers.MaxPooling2D((2, 2)),\n",
        "        layers.Dropout(0.2),\n",
        "\n",
        "        layers.Conv2D(64, (2, 2),activation='relu',padding=\"same\"),\n",
        "        layers.BatchNormalization(),\n",
        "        layers.Conv2D(64, (2, 2),activation='relu',padding=\"same\"),\n",
        "        layers.BatchNormalization(),\n",
        "        layers.MaxPooling2D((2, 2)),\n",
        "        layers.Dropout(0.3),\n",
        "\n",
        "        layers.Conv2D(128, (2, 2), activation='relu',padding=\"same\"),\n",
        "        layers.BatchNormalization(),\n",
        "        layers.Conv2D(128, (2, 2), activation='relu',padding=\"same\"),\n",
        "        layers.BatchNormalization(),\n",
        "        layers.MaxPooling2D((2, 2)),\n",
        "        layers.Dropout(0.4),\n",
        "\n",
        "        layers.Flatten(),\n",
        "        layers.Dense(128, activation='relu'),\n",
        "        layers.BatchNormalization(),\n",
        "        layers.Dropout(0.5),\n",
        "        layers.Dense(10, activation='softmax')\n",
        "    ])\n",
        "\n",
        "    model.compile(optimizer='adam',\n",
        "                  loss='sparse_categorical_crossentropy',\n",
        "                  metrics=['accuracy'])\n",
        "    return model\n",
        "\n",
        "model = build_cnn_model()\n",
        "\n",
        "# Define callbacks\n",
        "early_stopping = EarlyStopping(monitor='val_loss', patience=10, restore_best_weights=True)\n",
        "reduce_lr = ReduceLROnPlateau(monitor='val_loss', factor=0.5, patience=5, min_lr=1e-5)\n",
        "\n",
        "# Train the model\n",
        "history = model.fit(x_train, y_train, epochs=50,\n",
        "                    validation_data=(x_test, y_test),\n",
        "                    callbacks=[early_stopping, reduce_lr])\n",
        "\n",
        "# Save the trained model\n",
        "model.save('cnn_fashion_mnist_model.h5')\n",
        "\n",
        "# Save the training history\n",
        "import pickle\n",
        "with open('history.pkl', 'wb') as f:\n",
        "    pickle.dump(history.history, f)\n"
      ],
      "metadata": {
        "colab": {
          "base_uri": "https://localhost:8080/"
        },
        "id": "1LoLYf6xLhvj",
        "outputId": "b94c1f77-a230-4920-ee41-0e5aa59e6094"
      },
      "execution_count": 49,
      "outputs": [
        {
          "output_type": "stream",
          "name": "stderr",
          "text": [
            "/usr/local/lib/python3.10/dist-packages/keras/src/layers/convolutional/base_conv.py:107: UserWarning: Do not pass an `input_shape`/`input_dim` argument to a layer. When using Sequential models, prefer using an `Input(shape)` object as the first layer in the model instead.\n",
            "  super().__init__(activity_regularizer=activity_regularizer, **kwargs)\n"
          ]
        },
        {
          "output_type": "stream",
          "name": "stdout",
          "text": [
            "Epoch 1/50\n",
            "\u001b[1m1875/1875\u001b[0m \u001b[32m━━━━━━━━━━━━━━━━━━━━\u001b[0m\u001b[37m\u001b[0m \u001b[1m20s\u001b[0m 6ms/step - accuracy: 0.7028 - loss: 0.8890 - val_accuracy: 0.8819 - val_loss: 0.3304 - learning_rate: 0.0010\n",
            "Epoch 2/50\n",
            "\u001b[1m1875/1875\u001b[0m \u001b[32m━━━━━━━━━━━━━━━━━━━━\u001b[0m\u001b[37m\u001b[0m \u001b[1m14s\u001b[0m 5ms/step - accuracy: 0.8622 - loss: 0.3859 - val_accuracy: 0.8963 - val_loss: 0.2883 - learning_rate: 0.0010\n",
            "Epoch 3/50\n",
            "\u001b[1m1875/1875\u001b[0m \u001b[32m━━━━━━━━━━━━━━━━━━━━\u001b[0m\u001b[37m\u001b[0m \u001b[1m10s\u001b[0m 5ms/step - accuracy: 0.8837 - loss: 0.3270 - val_accuracy: 0.9053 - val_loss: 0.2580 - learning_rate: 0.0010\n",
            "Epoch 4/50\n",
            "\u001b[1m1875/1875\u001b[0m \u001b[32m━━━━━━━━━━━━━━━━━━━━\u001b[0m\u001b[37m\u001b[0m \u001b[1m10s\u001b[0m 4ms/step - accuracy: 0.8942 - loss: 0.3000 - val_accuracy: 0.8829 - val_loss: 0.3188 - learning_rate: 0.0010\n",
            "Epoch 5/50\n",
            "\u001b[1m1875/1875\u001b[0m \u001b[32m━━━━━━━━━━━━━━━━━━━━\u001b[0m\u001b[37m\u001b[0m \u001b[1m9s\u001b[0m 5ms/step - accuracy: 0.9012 - loss: 0.2730 - val_accuracy: 0.9160 - val_loss: 0.2373 - learning_rate: 0.0010\n",
            "Epoch 6/50\n",
            "\u001b[1m1875/1875\u001b[0m \u001b[32m━━━━━━━━━━━━━━━━━━━━\u001b[0m\u001b[37m\u001b[0m \u001b[1m10s\u001b[0m 5ms/step - accuracy: 0.9057 - loss: 0.2620 - val_accuracy: 0.9118 - val_loss: 0.2422 - learning_rate: 0.0010\n",
            "Epoch 7/50\n",
            "\u001b[1m1875/1875\u001b[0m \u001b[32m━━━━━━━━━━━━━━━━━━━━\u001b[0m\u001b[37m\u001b[0m \u001b[1m10s\u001b[0m 5ms/step - accuracy: 0.9117 - loss: 0.2465 - val_accuracy: 0.9236 - val_loss: 0.2121 - learning_rate: 0.0010\n",
            "Epoch 8/50\n",
            "\u001b[1m1875/1875\u001b[0m \u001b[32m━━━━━━━━━━━━━━━━━━━━\u001b[0m\u001b[37m\u001b[0m \u001b[1m8s\u001b[0m 4ms/step - accuracy: 0.9141 - loss: 0.2390 - val_accuracy: 0.9250 - val_loss: 0.2095 - learning_rate: 0.0010\n",
            "Epoch 9/50\n",
            "\u001b[1m1875/1875\u001b[0m \u001b[32m━━━━━━━━━━━━━━━━━━━━\u001b[0m\u001b[37m\u001b[0m \u001b[1m9s\u001b[0m 5ms/step - accuracy: 0.9188 - loss: 0.2284 - val_accuracy: 0.9254 - val_loss: 0.2117 - learning_rate: 0.0010\n",
            "Epoch 10/50\n",
            "\u001b[1m1875/1875\u001b[0m \u001b[32m━━━━━━━━━━━━━━━━━━━━\u001b[0m\u001b[37m\u001b[0m \u001b[1m10s\u001b[0m 5ms/step - accuracy: 0.9218 - loss: 0.2210 - val_accuracy: 0.9270 - val_loss: 0.2036 - learning_rate: 0.0010\n",
            "Epoch 11/50\n",
            "\u001b[1m1875/1875\u001b[0m \u001b[32m━━━━━━━━━━━━━━━━━━━━\u001b[0m\u001b[37m\u001b[0m \u001b[1m10s\u001b[0m 5ms/step - accuracy: 0.9236 - loss: 0.2162 - val_accuracy: 0.9254 - val_loss: 0.2076 - learning_rate: 0.0010\n",
            "Epoch 12/50\n",
            "\u001b[1m1875/1875\u001b[0m \u001b[32m━━━━━━━━━━━━━━━━━━━━\u001b[0m\u001b[37m\u001b[0m \u001b[1m8s\u001b[0m 4ms/step - accuracy: 0.9251 - loss: 0.2108 - val_accuracy: 0.9247 - val_loss: 0.2129 - learning_rate: 0.0010\n",
            "Epoch 13/50\n",
            "\u001b[1m1875/1875\u001b[0m \u001b[32m━━━━━━━━━━━━━━━━━━━━\u001b[0m\u001b[37m\u001b[0m \u001b[1m9s\u001b[0m 5ms/step - accuracy: 0.9300 - loss: 0.1998 - val_accuracy: 0.9264 - val_loss: 0.2004 - learning_rate: 0.0010\n",
            "Epoch 14/50\n",
            "\u001b[1m1875/1875\u001b[0m \u001b[32m━━━━━━━━━━━━━━━━━━━━\u001b[0m\u001b[37m\u001b[0m \u001b[1m9s\u001b[0m 5ms/step - accuracy: 0.9280 - loss: 0.2006 - val_accuracy: 0.9315 - val_loss: 0.1941 - learning_rate: 0.0010\n",
            "Epoch 15/50\n",
            "\u001b[1m1875/1875\u001b[0m \u001b[32m━━━━━━━━━━━━━━━━━━━━\u001b[0m\u001b[37m\u001b[0m \u001b[1m9s\u001b[0m 5ms/step - accuracy: 0.9295 - loss: 0.1961 - val_accuracy: 0.9325 - val_loss: 0.1958 - learning_rate: 0.0010\n",
            "Epoch 16/50\n",
            "\u001b[1m1875/1875\u001b[0m \u001b[32m━━━━━━━━━━━━━━━━━━━━\u001b[0m\u001b[37m\u001b[0m \u001b[1m9s\u001b[0m 5ms/step - accuracy: 0.9326 - loss: 0.1899 - val_accuracy: 0.9352 - val_loss: 0.1863 - learning_rate: 0.0010\n",
            "Epoch 17/50\n",
            "\u001b[1m1875/1875\u001b[0m \u001b[32m━━━━━━━━━━━━━━━━━━━━\u001b[0m\u001b[37m\u001b[0m \u001b[1m10s\u001b[0m 5ms/step - accuracy: 0.9344 - loss: 0.1870 - val_accuracy: 0.9318 - val_loss: 0.1917 - learning_rate: 0.0010\n",
            "Epoch 18/50\n",
            "\u001b[1m1875/1875\u001b[0m \u001b[32m━━━━━━━━━━━━━━━━━━━━\u001b[0m\u001b[37m\u001b[0m \u001b[1m10s\u001b[0m 5ms/step - accuracy: 0.9343 - loss: 0.1842 - val_accuracy: 0.9344 - val_loss: 0.1912 - learning_rate: 0.0010\n",
            "Epoch 19/50\n",
            "\u001b[1m1875/1875\u001b[0m \u001b[32m━━━━━━━━━━━━━━━━━━━━\u001b[0m\u001b[37m\u001b[0m \u001b[1m10s\u001b[0m 5ms/step - accuracy: 0.9354 - loss: 0.1777 - val_accuracy: 0.9339 - val_loss: 0.1874 - learning_rate: 0.0010\n",
            "Epoch 20/50\n",
            "\u001b[1m1875/1875\u001b[0m \u001b[32m━━━━━━━━━━━━━━━━━━━━\u001b[0m\u001b[37m\u001b[0m \u001b[1m10s\u001b[0m 4ms/step - accuracy: 0.9367 - loss: 0.1774 - val_accuracy: 0.9265 - val_loss: 0.2122 - learning_rate: 0.0010\n",
            "Epoch 21/50\n",
            "\u001b[1m1875/1875\u001b[0m \u001b[32m━━━━━━━━━━━━━━━━━━━━\u001b[0m\u001b[37m\u001b[0m \u001b[1m9s\u001b[0m 5ms/step - accuracy: 0.9390 - loss: 0.1723 - val_accuracy: 0.9353 - val_loss: 0.1832 - learning_rate: 0.0010\n",
            "Epoch 22/50\n",
            "\u001b[1m1875/1875\u001b[0m \u001b[32m━━━━━━━━━━━━━━━━━━━━\u001b[0m\u001b[37m\u001b[0m \u001b[1m9s\u001b[0m 5ms/step - accuracy: 0.9395 - loss: 0.1696 - val_accuracy: 0.9381 - val_loss: 0.1789 - learning_rate: 0.0010\n",
            "Epoch 23/50\n",
            "\u001b[1m1875/1875\u001b[0m \u001b[32m━━━━━━━━━━━━━━━━━━━━\u001b[0m\u001b[37m\u001b[0m \u001b[1m9s\u001b[0m 5ms/step - accuracy: 0.9391 - loss: 0.1667 - val_accuracy: 0.9344 - val_loss: 0.1899 - learning_rate: 0.0010\n",
            "Epoch 24/50\n",
            "\u001b[1m1875/1875\u001b[0m \u001b[32m━━━━━━━━━━━━━━━━━━━━\u001b[0m\u001b[37m\u001b[0m \u001b[1m8s\u001b[0m 4ms/step - accuracy: 0.9418 - loss: 0.1640 - val_accuracy: 0.9388 - val_loss: 0.1763 - learning_rate: 0.0010\n",
            "Epoch 25/50\n",
            "\u001b[1m1875/1875\u001b[0m \u001b[32m━━━━━━━━━━━━━━━━━━━━\u001b[0m\u001b[37m\u001b[0m \u001b[1m11s\u001b[0m 5ms/step - accuracy: 0.9384 - loss: 0.1674 - val_accuracy: 0.9398 - val_loss: 0.1798 - learning_rate: 0.0010\n",
            "Epoch 26/50\n",
            "\u001b[1m1875/1875\u001b[0m \u001b[32m━━━━━━━━━━━━━━━━━━━━\u001b[0m\u001b[37m\u001b[0m \u001b[1m9s\u001b[0m 5ms/step - accuracy: 0.9444 - loss: 0.1555 - val_accuracy: 0.9368 - val_loss: 0.1834 - learning_rate: 0.0010\n",
            "Epoch 27/50\n",
            "\u001b[1m1875/1875\u001b[0m \u001b[32m━━━━━━━━━━━━━━━━━━━━\u001b[0m\u001b[37m\u001b[0m \u001b[1m10s\u001b[0m 5ms/step - accuracy: 0.9438 - loss: 0.1572 - val_accuracy: 0.9402 - val_loss: 0.1714 - learning_rate: 0.0010\n",
            "Epoch 28/50\n",
            "\u001b[1m1875/1875\u001b[0m \u001b[32m━━━━━━━━━━━━━━━━━━━━\u001b[0m\u001b[37m\u001b[0m \u001b[1m8s\u001b[0m 5ms/step - accuracy: 0.9451 - loss: 0.1542 - val_accuracy: 0.9397 - val_loss: 0.1761 - learning_rate: 0.0010\n",
            "Epoch 29/50\n",
            "\u001b[1m1875/1875\u001b[0m \u001b[32m━━━━━━━━━━━━━━━━━━━━\u001b[0m\u001b[37m\u001b[0m \u001b[1m9s\u001b[0m 5ms/step - accuracy: 0.9449 - loss: 0.1571 - val_accuracy: 0.9366 - val_loss: 0.1883 - learning_rate: 0.0010\n",
            "Epoch 30/50\n",
            "\u001b[1m1875/1875\u001b[0m \u001b[32m━━━━━━━━━━━━━━━━━━━━\u001b[0m\u001b[37m\u001b[0m \u001b[1m10s\u001b[0m 5ms/step - accuracy: 0.9447 - loss: 0.1541 - val_accuracy: 0.9394 - val_loss: 0.1811 - learning_rate: 0.0010\n",
            "Epoch 31/50\n",
            "\u001b[1m1875/1875\u001b[0m \u001b[32m━━━━━━━━━━━━━━━━━━━━\u001b[0m\u001b[37m\u001b[0m \u001b[1m8s\u001b[0m 4ms/step - accuracy: 0.9465 - loss: 0.1488 - val_accuracy: 0.9372 - val_loss: 0.1823 - learning_rate: 0.0010\n",
            "Epoch 32/50\n",
            "\u001b[1m1875/1875\u001b[0m \u001b[32m━━━━━━━━━━━━━━━━━━━━\u001b[0m\u001b[37m\u001b[0m \u001b[1m10s\u001b[0m 4ms/step - accuracy: 0.9465 - loss: 0.1487 - val_accuracy: 0.9291 - val_loss: 0.2052 - learning_rate: 0.0010\n",
            "Epoch 33/50\n",
            "\u001b[1m1875/1875\u001b[0m \u001b[32m━━━━━━━━━━━━━━━━━━━━\u001b[0m\u001b[37m\u001b[0m \u001b[1m11s\u001b[0m 5ms/step - accuracy: 0.9491 - loss: 0.1363 - val_accuracy: 0.9410 - val_loss: 0.1771 - learning_rate: 5.0000e-04\n",
            "Epoch 34/50\n",
            "\u001b[1m1875/1875\u001b[0m \u001b[32m━━━━━━━━━━━━━━━━━━━━\u001b[0m\u001b[37m\u001b[0m \u001b[1m10s\u001b[0m 5ms/step - accuracy: 0.9536 - loss: 0.1311 - val_accuracy: 0.9398 - val_loss: 0.1774 - learning_rate: 5.0000e-04\n",
            "Epoch 35/50\n",
            "\u001b[1m1875/1875\u001b[0m \u001b[32m━━━━━━━━━━━━━━━━━━━━\u001b[0m\u001b[37m\u001b[0m \u001b[1m9s\u001b[0m 5ms/step - accuracy: 0.9532 - loss: 0.1293 - val_accuracy: 0.9419 - val_loss: 0.1761 - learning_rate: 5.0000e-04\n",
            "Epoch 36/50\n",
            "\u001b[1m1875/1875\u001b[0m \u001b[32m━━━━━━━━━━━━━━━━━━━━\u001b[0m\u001b[37m\u001b[0m \u001b[1m8s\u001b[0m 4ms/step - accuracy: 0.9550 - loss: 0.1280 - val_accuracy: 0.9406 - val_loss: 0.1759 - learning_rate: 5.0000e-04\n",
            "Epoch 37/50\n",
            "\u001b[1m1875/1875\u001b[0m \u001b[32m━━━━━━━━━━━━━━━━━━━━\u001b[0m\u001b[37m\u001b[0m \u001b[1m9s\u001b[0m 5ms/step - accuracy: 0.9552 - loss: 0.1273 - val_accuracy: 0.9423 - val_loss: 0.1741 - learning_rate: 5.0000e-04\n"
          ]
        },
        {
          "output_type": "stream",
          "name": "stderr",
          "text": [
            "WARNING:absl:You are saving your model as an HDF5 file via `model.save()` or `keras.saving.save_model(model)`. This file format is considered legacy. We recommend using instead the native Keras format, e.g. `model.save('my_model.keras')` or `keras.saving.save_model(model, 'my_model.keras')`. \n"
          ]
        }
      ]
    },
    {
      "cell_type": "code",
      "source": [
        "# evaluate.py\n",
        "\n",
        "import tensorflow as tf\n",
        "from data.fashion_mnist_data import load_data\n",
        "\n",
        "# Load Fashion MNIST data\n",
        "(x_train, y_train), (x_test, y_test) = load_data()\n",
        "\n",
        "# Load the trained model\n",
        "model = tf.keras.models.load_model('cnn_fashion_mnist_model.h5')\n",
        "\n",
        "# Evaluate the model\n",
        "test_loss, test_acc = model.evaluate(x_test, y_test, verbose=2)\n",
        "print(f'\\nTest accuracy: {test_acc}')\n"
      ],
      "metadata": {
        "colab": {
          "base_uri": "https://localhost:8080/"
        },
        "id": "d5jyL2XPRjGA",
        "outputId": "47119212-d5c3-40f9-d072-3bb7b503474c"
      },
      "execution_count": 50,
      "outputs": [
        {
          "output_type": "stream",
          "name": "stderr",
          "text": [
            "WARNING:absl:Compiled the loaded model, but the compiled metrics have yet to be built. `model.compile_metrics` will be empty until you train or evaluate the model.\n"
          ]
        },
        {
          "output_type": "stream",
          "name": "stdout",
          "text": [
            "313/313 - 2s - 6ms/step - accuracy: 0.9402 - loss: 0.1714\n",
            "\n",
            "Test accuracy: 0.9401999711990356\n"
          ]
        }
      ]
    },
    {
      "cell_type": "code",
      "source": [
        "# utils/plot_history.py\n",
        "\n",
        "import matplotlib.pyplot as plt\n",
        "import pickle\n",
        "\n",
        "def plot_history(history_file='history.pkl'):\n",
        "    with open(history_file, 'rb') as f:\n",
        "        history = pickle.load(f)\n",
        "\n",
        "    plt.figure(figsize=(10, 5))\n",
        "    plt.plot(history['accuracy'], label='accuracy')\n",
        "    plt.plot(history['val_accuracy'], label='val_accuracy')\n",
        "    plt.xlabel('Epoch')\n",
        "    plt.ylabel('Accuracy')\n",
        "    plt.ylim([0.5, 1])\n",
        "    plt.legend(loc='lower right')\n",
        "    plt.show()\n",
        "\n",
        "if __name__ == '__main__':\n",
        "    plot_history()\n"
      ],
      "metadata": {
        "colab": {
          "base_uri": "https://localhost:8080/",
          "height": 470
        },
        "id": "aWqsJdhMRoJk",
        "outputId": "8f8f2343-01d6-4a4b-fd81-15e1b6f6d7b6"
      },
      "execution_count": 51,
      "outputs": [
        {
          "output_type": "display_data",
          "data": {
            "text/plain": [
              "<Figure size 1000x500 with 1 Axes>"
            ],
            "image/png": "[encoded data removed]"
          },
          "metadata": {}
        }
      ]
    }
  ]
}